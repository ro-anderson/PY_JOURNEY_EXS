{
 "cells": [
  {
   "cell_type": "markdown",
   "metadata": {},
   "source": [
    "Hacking Incident\n",
    "We're being hacked recruit! We need your help to get a message to the main server.\n",
    "\n",
    "We need you to accomplish 3 tasks:\n",
    "\n",
    "Create a Caeser cipher encryption function.\n",
    "Create another function that decrypts a Caeser cipher message.\n",
    "Create a function that will brute force every possible output for an encrypted Caeser cipher."
   ]
  },
  {
   "cell_type": "code",
   "execution_count": 1,
   "metadata": {},
   "outputs": [],
   "source": [
    "import string\n",
    "alphabet = string.ascii_lowercase\n",
    "\n",
    "def encrypt(text,shift):\n",
    "    '''\n",
    "    INPUT: text as a string and an integer for the shift value.\n",
    "    OUTPUT: The shifted text after being run through the Caeser cipher.\n",
    "    '''\n",
    "    \n",
    "    # Create a placeholder list\n",
    "    encrypted_text = list(range(len(text)))\n",
    "    \n",
    "    alphabet = string.ascii_lowercase\n",
    "    \n",
    "    # Create shifted alphabet\n",
    "    first_half = alphabet[:shift]\n",
    "    second_half = alphabet[shift:]\n",
    "    shifted_alphabet = second_half+first_half\n",
    "    \n",
    "    for i,letter in enumerate(text.lower()):\n",
    "        \n",
    "        # Check for spaces or punctuation\n",
    "        if letter in alphabet:\n",
    "            # Find the original index position\n",
    "            original_index = alphabet.index(letter)\n",
    "            \n",
    "            # Shifted letter\n",
    "            new_letter = shifted_alphabet[original_index]\n",
    "            \n",
    "            encrypted_text[i] = new_letter\n",
    "        \n",
    "        # Punctuation or space\n",
    "        else:\n",
    "            encrypted_text[i] = letter\n",
    "            \n",
    "    return ''.join(encrypted_text)\n",
    "\n",
    "def decrypt(text,shift):\n",
    "    '''\n",
    "    INPUT: A shifted message and the integer shift value\n",
    "    OUTPUT: The plain text original message.\n",
    "    '''\n",
    "    \n",
    "    \n",
    "    # Create a placeholder list\n",
    "    decrypted_text = list(range(len(text)))\n",
    "    \n",
    "    alphabet = string.ascii_lowercase\n",
    "    \n",
    "    # eCreate shifted alphabet\n",
    "    first_half = alphabet[:shift]\n",
    "    second_half = alphabet[shift:]\n",
    "    shifted_alphabet = second_half+first_half\n",
    "    \n",
    "    for i,letter in enumerate(text.lower()):\n",
    "        \n",
    "        # Check for spaces or punctuation\n",
    "        if letter in alphabet:\n",
    "            # Find the original index position\n",
    "            index = shifted_alphabet.index(letter)\n",
    "            \n",
    "            # Shifted letter\n",
    "            original_letter = alphabet[index]\n",
    "            \n",
    "            decrypted_text[i] = original_letter\n",
    "        \n",
    "        # Punctuation or space\n",
    "        else:\n",
    "            decrypted_text[i] = letter\n",
    "            \n",
    "    return ''.join(decrypted_text)"
   ]
  },
  {
   "cell_type": "code",
   "execution_count": 2,
   "metadata": {},
   "outputs": [
    {
     "data": {
      "text/plain": [
       "'trg guvf zrffntr gb gur znva freire'"
      ]
     },
     "execution_count": 2,
     "metadata": {},
     "output_type": "execute_result"
    }
   ],
   "source": [
    "encrypt('Get this message to the main server',13)"
   ]
  },
  {
   "cell_type": "code",
   "execution_count": 3,
   "metadata": {},
   "outputs": [
    {
     "data": {
      "text/plain": [
       "'get this message to the main server'"
      ]
     },
     "execution_count": 3,
     "metadata": {},
     "output_type": "execute_result"
    }
   ],
   "source": [
    "decrypt('trg guvf zrffntr gb gur znva freire',13)"
   ]
  }
 ],
 "metadata": {
  "kernelspec": {
   "display_name": "Python 3",
   "language": "python",
   "name": "python3"
  },
  "language_info": {
   "codemirror_mode": {
    "name": "ipython",
    "version": 3
   },
   "file_extension": ".py",
   "mimetype": "text/x-python",
   "name": "python",
   "nbconvert_exporter": "python",
   "pygments_lexer": "ipython3",
   "version": "3.7.1"
  }
 },
 "nbformat": 4,
 "nbformat_minor": 2
}
