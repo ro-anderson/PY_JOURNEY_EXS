{
 "cells": [
  {
   "cell_type": "markdown",
   "metadata": {},
   "source": [
    "Create a function that takes in a string name (e.g. \"James\", \"Cindy\", etc...) and replaces all vowels with the letter x. For our purposes, consider these letters as vowels: [a,e,i,o,u]). Then switch the position of the first and last letters. "
   ]
  },
  {
   "cell_type": "code",
   "execution_count": 1,
   "metadata": {},
   "outputs": [],
   "source": [
    "\n",
    "def replace_and_switch(name):\n",
    "    \n",
    "    # Substitui vogais por x\n",
    "    vogais=['a','e','i','o','u']\n",
    "    output = list(range(len(name)))\n",
    "    \n",
    "    for i,letra in enumerate(name):\n",
    "        if letra.lower() in vogais:\n",
    "            output[i] = 'x'\n",
    "        else: \n",
    "            output[i] = letra\n",
    " \n",
    "    # Troca primeira letra pela última\n",
    "    last = output[-1]\n",
    "    first = output[0]\n",
    "    output[0] = last\n",
    "    output[-1] = first\n",
    "    \n",
    "   # Join back together into a string\n",
    "    return ''.join(output)"
   ]
  },
  {
   "cell_type": "code",
   "execution_count": null,
   "metadata": {},
   "outputs": [],
   "source": [
    "# Example Inputs and Outputs:"
   ]
  },
  {
   "cell_type": "code",
   "execution_count": 2,
   "metadata": {},
   "outputs": [
    {
     "data": {
      "text/plain": [
       "'sxmxJ'"
      ]
     },
     "execution_count": 2,
     "metadata": {},
     "output_type": "execute_result"
    }
   ],
   "source": [
    "replace_and_switch('James')"
   ]
  }
 ],
 "metadata": {
  "kernelspec": {
   "display_name": "Python 3",
   "language": "python",
   "name": "python3"
  },
  "language_info": {
   "codemirror_mode": {
    "name": "ipython",
    "version": 3
   },
   "file_extension": ".py",
   "mimetype": "text/x-python",
   "name": "python",
   "nbconvert_exporter": "python",
   "pygments_lexer": "ipython3",
   "version": "3.7.1"
  }
 },
 "nbformat": 4,
 "nbformat_minor": 2
}
